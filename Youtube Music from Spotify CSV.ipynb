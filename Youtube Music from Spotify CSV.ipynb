{
 "cells": [
  {
   "cell_type": "code",
   "execution_count": null,
   "id": "d66e9bd8",
   "metadata": {},
   "outputs": [],
   "source": [
    "from ytmusicapi import YTMusic\n",
    "import pandas as pd\n",
    "import time\n",
    "from random import *"
   ]
  },
  {
   "cell_type": "code",
   "execution_count": null,
   "id": "77b338dc",
   "metadata": {},
   "outputs": [],
   "source": [
    "HEADER = \n",
    "'''\n",
    "-- POST HEADER as suggested in ytmusicapi documentation\n",
    "'''"
   ]
  },
  {
   "cell_type": "code",
   "execution_count": null,
   "id": "546d2d6a",
   "metadata": {
    "scrolled": true
   },
   "outputs": [],
   "source": [
    "YTMusic.setup(filepath=\"headers_auth.json\",headers_raw=HEADER)"
   ]
  },
  {
   "cell_type": "code",
   "execution_count": null,
   "id": "c3b07256",
   "metadata": {},
   "outputs": [],
   "source": [
    "ytmusic_client = YTMusic('headers_auth.json')"
   ]
  },
  {
   "cell_type": "code",
   "execution_count": null,
   "id": "0e36bc51",
   "metadata": {},
   "outputs": [],
   "source": [
    "#create playlist\n",
    "#yt_playlist_id = ytmusic_client.create_playlist(\"Me_gustan\",\"importadas de spotify\")\n",
    "yt_playlist_id = '-- your playlist ID found in URL --'"
   ]
  },
  {
   "cell_type": "code",
   "execution_count": null,
   "id": "6dd0b3ce",
   "metadata": {},
   "outputs": [],
   "source": [
    "#CSV extracted from spotify API\n",
    "df_search_music = pd.read_csv('my_songs.csv',encoding='utf-8')"
   ]
  },
  {
   "cell_type": "code",
   "execution_count": null,
   "id": "626ad134",
   "metadata": {},
   "outputs": [],
   "source": [
    "#get ID for each song\n",
    "lt_ids = list()\n",
    "for index,row in df_search_music.iterrows():\n",
    "    query = f\"{row['track_name']} {row['album_name']} {row['artist_name']}\"\n",
    "    song_result = ytmusic_client.search(query)\n",
    "    if len(song_result) > 0:\n",
    "        for elem in song_result:\n",
    "            if elem['resultType'] == 'song':\n",
    "                found_song = elem['videoId']\n",
    "                lt_ids.append(found_song)\n",
    "                break\n",
    "    #Use sleep just in case, youtube may block our requests\n",
    "    time.sleep(randint(1,3))"
   ]
  },
  {
   "cell_type": "code",
   "execution_count": null,
   "id": "9c3bf443",
   "metadata": {},
   "outputs": [],
   "source": [
    "#Add each song\n",
    "for song in lt_ids:\n",
    "    current_song = list()\n",
    "    current_song.append(song)\n",
    "    ytmusic_client.add_playlist_items(yt_playlist_id,current_song)\n",
    "    time.sleep(randint(1,3))"
   ]
  }
 ],
 "metadata": {
  "kernelspec": {
   "display_name": "Python 3",
   "language": "python",
   "name": "python3"
  },
  "language_info": {
   "codemirror_mode": {
    "name": "ipython",
    "version": 3
   },
   "file_extension": ".py",
   "mimetype": "text/x-python",
   "name": "python",
   "nbconvert_exporter": "python",
   "pygments_lexer": "ipython3",
   "version": "3.8.10"
  }
 },
 "nbformat": 4,
 "nbformat_minor": 5
}
