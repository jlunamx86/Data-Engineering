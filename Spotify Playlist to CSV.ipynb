{
 "cells": [
  {
   "cell_type": "code",
   "execution_count": 1,
   "id": "7bbb7600",
   "metadata": {},
   "outputs": [],
   "source": [
    "import spotipy\n",
    "import json\n",
    "from spotipy.oauth2 import SpotifyClientCredentials\n",
    "import csv"
   ]
  },
  {
   "cell_type": "code",
   "execution_count": 2,
   "id": "8a0fb212",
   "metadata": {},
   "outputs": [],
   "source": [
    "#create api\n",
    "def connect(cl_id,cl_secret):\n",
    "    sp = spotipy.Spotify(\n",
    "    auth_manager=SpotifyClientCredentials(\n",
    "        client_id=cl_id, client_secret=cl_secret)\n",
    "    )\n",
    "    return sp"
   ]
  },
  {
   "cell_type": "code",
   "execution_count": 3,
   "id": "507677c3",
   "metadata": {},
   "outputs": [],
   "source": [
    "#fetch the playlist\n",
    "def fetch_playlist_by_id(api,id,my_offset):\n",
    "    playlist_response = api.playlist_items(playlist_id=id,limit=100,offset=my_offset)   \n",
    "    return playlist_response"
   ]
  },
  {
   "cell_type": "code",
   "execution_count": 4,
   "id": "ccbfd2ef",
   "metadata": {},
   "outputs": [],
   "source": [
    "#extract song data from playlist items\n",
    "def extract_data(items):\n",
    "    tracks_data = []\n",
    "    for i in items:\n",
    "        item = dict.fromkeys(['track_name','artist_name','album_name'])\n",
    "        track_name = i['track']['name']\n",
    "        artist_name = i['track']['artists'][0]['name']\n",
    "        album_name = i['track']['album']['name']\n",
    "        \n",
    "        item['track_name'] = track_name\n",
    "        item['artist_name']= artist_name\n",
    "        item['album_name']= album_name\n",
    "        \n",
    "        tracks_data.append(item)\n",
    "    return tracks_data"
   ]
  },
  {
   "cell_type": "code",
   "execution_count": 5,
   "id": "393b8624",
   "metadata": {},
   "outputs": [],
   "source": [
    "api = connect('-- client id --','-- client secret --')"
   ]
  },
  {
   "cell_type": "code",
   "execution_count": 6,
   "id": "40407c9a",
   "metadata": {},
   "outputs": [],
   "source": [
    "all_songs = list()\n",
    "for offset in (0,100,200,300,400):\n",
    "    playlist_response = fetch_playlist_by_id(api,'-- playlist ID from URL --',offset)\n",
    "    tmp_extract = extract_data(playlist_response['items'])\n",
    "    all_songs.append(tmp_extract)"
   ]
  },
  {
   "cell_type": "code",
   "execution_count": 7,
   "id": "7829f9fe",
   "metadata": {},
   "outputs": [],
   "source": [
    "final_list = list()\n",
    "for current_list in all_songs:\n",
    "    for song in current_list:\n",
    "        final_list.append(song)"
   ]
  },
  {
   "cell_type": "code",
   "execution_count": 8,
   "id": "6f2ab579",
   "metadata": {},
   "outputs": [],
   "source": [
    "keys = final_list[0].keys()\n",
    "\n",
    "with open('my_songs.csv', 'w', newline='', encoding=\"utf-8\") as output_file:\n",
    "    dict_writer = csv.DictWriter(output_file, keys)\n",
    "    dict_writer.writeheader()\n",
    "    dict_writer.writerows(final_list)"
   ]
  },
  {
   "cell_type": "code",
   "execution_count": 9,
   "id": "094dc4b4",
   "metadata": {},
   "outputs": [],
   "source": [
    "output_file.close()"
   ]
  }
 ],
 "metadata": {
  "kernelspec": {
   "display_name": "Python 3",
   "language": "python",
   "name": "python3"
  },
  "language_info": {
   "codemirror_mode": {
    "name": "ipython",
    "version": 3
   },
   "file_extension": ".py",
   "mimetype": "text/x-python",
   "name": "python",
   "nbconvert_exporter": "python",
   "pygments_lexer": "ipython3",
   "version": "3.8.10"
  }
 },
 "nbformat": 4,
 "nbformat_minor": 5
}
